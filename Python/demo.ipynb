{
 "cells": [
  {
   "cell_type": "markdown",
   "id": "9d94703a",
   "metadata": {},
   "source": [
    "```python\n",
    "# This is a Python code cell. You can write and execute Python code here.\n",
    "print(\"Hello, Jupyter Notebook!\")\n",
    "```"
   ]
  }
 ],
 "metadata": {
  "kernelspec": {
   "display_name": "Python 3",
   "language": "python",
   "name": "python3"
  },
  "language_info": {
   "name": "python",
   "version": "3.13.3"
  }
 },
 "nbformat": 4,
 "nbformat_minor": 5
}
